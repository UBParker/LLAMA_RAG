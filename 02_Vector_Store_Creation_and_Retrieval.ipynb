{
 "cells": [
  {
   "cell_type": "code",
   "execution_count": 1,
   "id": "d0054252",
   "metadata": {},
   "outputs": [
    {
     "name": "stderr",
     "output_type": "stream",
     "text": [
      "/Users/ashhome/miniconda/lib/python3.10/site-packages/sentence_transformers/cross_encoder/CrossEncoder.py:13: TqdmExperimentalWarning: Using `tqdm.autonotebook.tqdm` in notebook mode. Use `tqdm.tqdm` instead to force console mode (e.g. in jupyter console)\n",
      "  from tqdm.autonotebook import tqdm, trange\n",
      "2024-11-10 21:32:07.194388: I tensorflow/core/platform/cpu_feature_guard.cc:210] This TensorFlow binary is optimized to use available CPU instructions in performance-critical operations.\n",
      "To enable the following instructions: AVX2 AVX512F AVX512_VNNI FMA, in other operations, rebuild TensorFlow with the appropriate compiler flags.\n"
     ]
    }
   ],
   "source": [
    "# Import libraries\n",
    "from sentence_transformers import SentenceTransformer\n"
   ]
  },
  {
   "cell_type": "code",
   "execution_count": 2,
   "id": "7b745d58",
   "metadata": {},
   "outputs": [],
   "source": [
    "import faiss\n",
    "import numpy as np"
   ]
  },
  {
   "cell_type": "code",
   "execution_count": 3,
   "id": "5712677c",
   "metadata": {},
   "outputs": [
    {
     "name": "stdout",
     "output_type": "stream",
     "text": [
      "Website content loaded successfully.\n",
      "Sample content:\n",
      " Use any device with a browser to earn money.Buy or Sell free space. A browser based, quantum-resistant decentralized storage network, available first to the Solana blockchain users. Marketplace coming soon. So why waste free space when you can earn money? We only charge a 1% market fee to continue maintaining the code and continue innovating for years to come. â¢ Simply connect to the marketplace via a browser with your Solana wallet. No installs. â¢ Trade free space as a commodity (NFTs) in ...\n"
     ]
    }
   ],
   "source": [
    "# Load the saved website content from the file\n",
    "with open(\"website_content.txt\", \"r\", encoding=\"utf-8\") as f:\n",
    "    content = f.read()\n",
    "\n",
    "print(\"Website content loaded successfully.\")\n",
    "print(f\"Sample content:\\n{content[:500]}...\")  # Display a sample of the content"
   ]
  },
  {
   "cell_type": "code",
   "execution_count": 4,
   "id": "a314ef9c",
   "metadata": {},
   "outputs": [],
   "source": [
    "# Load a pre-trained model for embeddings\n",
    "model = SentenceTransformer('all-MiniLM-L6-v2')\n"
   ]
  },
  {
   "cell_type": "code",
   "execution_count": 5,
   "id": "0a1a8728",
   "metadata": {},
   "outputs": [],
   "source": [
    "\n",
    "# Create embeddings\n",
    "sentences = content.split('. ')\n",
    "embeddings = model.encode(sentences)\n",
    "\n"
   ]
  },
  {
   "cell_type": "code",
   "execution_count": 6,
   "id": "efff4619",
   "metadata": {},
   "outputs": [],
   "source": [
    "# Create and populate the FAISS index\n",
    "dimension = embeddings.shape[1]\n",
    "index = faiss.IndexFlatL2(dimension)\n",
    "index.add(np.array(embeddings))\n"
   ]
  },
  {
   "cell_type": "code",
   "execution_count": 7,
   "id": "08259846",
   "metadata": {},
   "outputs": [],
   "source": [
    "\n",
    "# Function to retrieve top k documents based on a query\n",
    "def retrieve(query, k=5):\n",
    "    query_embedding = model.encode([query])\n",
    "    _, indices = index.search(query_embedding, k)\n",
    "    return [sentences[idx] for idx in indices[0]]\n"
   ]
  },
  {
   "cell_type": "code",
   "execution_count": 8,
   "id": "638db423",
   "metadata": {},
   "outputs": [
    {
     "name": "stdout",
     "output_type": "stream",
     "text": [
      "['Marketplace coming soon', 'The market will decide the price, but not the evolution and execution of our development at this point', 'Using the funds to recruit top developer talents, putting together the best team to deliver the SOL Space market fast, together with all the required integration with the Solana blockchain and to ensure continuous innovation', 'Follow us on X or engage with our Telegram community:', 'So we imagined there are 8 billion humans on Terra and we assigned 1 Terabyte for each human as a virtual allocation of storage capacity']\n"
     ]
    }
   ],
   "source": [
    "\n",
    "# Test retrieval\n",
    "print(retrieve(\"What is the main topic?\"))\n"
   ]
  },
  {
   "cell_type": "code",
   "execution_count": null,
   "id": "991f6066",
   "metadata": {},
   "outputs": [],
   "source": []
  }
 ],
 "metadata": {
  "kernelspec": {
   "display_name": "Python 3 (ipykernel)",
   "language": "python",
   "name": "python3"
  },
  "language_info": {
   "codemirror_mode": {
    "name": "ipython",
    "version": 3
   },
   "file_extension": ".py",
   "mimetype": "text/x-python",
   "name": "python",
   "nbconvert_exporter": "python",
   "pygments_lexer": "ipython3",
   "version": "3.10.12"
  }
 },
 "nbformat": 4,
 "nbformat_minor": 5
}
