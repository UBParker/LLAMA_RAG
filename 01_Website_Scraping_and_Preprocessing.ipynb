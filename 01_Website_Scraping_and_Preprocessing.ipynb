{
 "cells": [
  {
   "cell_type": "code",
   "execution_count": 1,
   "id": "53ff6027",
   "metadata": {},
   "outputs": [],
   "source": [
    "# Import necessary libraries\n",
    "from bs4 import BeautifulSoup\n",
    "import requests\n",
    "import re"
   ]
  },
  {
   "cell_type": "code",
   "execution_count": 2,
   "id": "42b28b59",
   "metadata": {},
   "outputs": [],
   "source": [
    "# Function to scrape the website content\n",
    "def scrape_website(url):\n",
    "    response = requests.get(url)\n",
    "    soup = BeautifulSoup(response.text, 'html.parser')\n",
    "    \n",
    "    # Extract all text content\n",
    "    text = \" \".join([p.get_text() for p in soup.find_all('p')])\n",
    "    \n",
    "    # Clean the text\n",
    "    text = re.sub(r'\\s+', ' ', text)\n",
    "    return text"
   ]
  },
  {
   "cell_type": "code",
   "execution_count": 3,
   "id": "5c847b8f",
   "metadata": {},
   "outputs": [
    {
     "name": "stdout",
     "output_type": "stream",
     "text": [
      " Use any device with a browser to earn money.Buy or Sell free space. A browser based, quantum-resistant decentralized storage network, available first to the Solana blockchain users. Marketplace coming soon. So why waste free space when you can earn money? We only charge a 1% market fee to continue maintaining the code and continue innovating for years to come. â¢ Simply connect to the marketplace via a browser with your Solana wallet. No installs. â¢ Trade free space as a commodity (NFTs) in the Marketplace just like you can trade KW/h, but easier. To calculate the maximum supply we are pairing each SOLRE token to 1 Terabyte. So we imagined there are 8 billion humans on Terra and we assigned 1 Terabyte for each human as a virtual allocation of storage capacity. That means we will have a max supply of 8 Billion SOLRE tokens that can be divided up to 9 decimal places to represent our 8B max supply versus a potential 8 Zettabytes capacity, to begin with. This adds more power to the deflationary nature of the tokenomics. First funding action is to sponsor the next steps using private funds. For this, we're selling up to 20% of the total supply through SAFT contracts to early investors. Raising more capital by launching the SOLRE token with a multiple-launchpads strategy. Exact dates to be announced soon. Using the funds to recruit top developer talents, putting together the best team to deliver the SOL Space market fast, together with all the required integration with the Solana blockchain and to ensure continuous innovation. Epanding to other blockchains after this milestone. We allow everyone to trade the token on CEX and DEX exchanges freely. The market will decide the price, but not the evolution and execution of our development at this point. Good things will come to those who wait. More listings will be made on different exchanges. Co-Founder, Engineer Industry veteran, Web 3 Systems Architect. Lucian is a visionary with over 16 years of experience in Web Research & Development that speaks Creativity & Innovation. Co-Founder, Sales & B2B With a wealth of experience in Sales and Business Development, Gabriel is able to easily attract high value people to any future proof Web 3 Business. Physicist, Engineer Former CERN physicist with extensive software development and leadership experience, now in B2B sales for Web3 startups. Ashley excels in attracting investors through her professional network. Follow us on X or engage with our Telegram community:\n"
     ]
    }
   ],
   "source": [
    "# Scrape a sample website\n",
    "url = \"https://solspace.rent\"\n",
    "content = scrape_website(url)\n",
    "print(content)\n"
   ]
  },
  {
   "cell_type": "code",
   "execution_count": 4,
   "id": "fd0bf83a",
   "metadata": {},
   "outputs": [
    {
     "name": "stdout",
     "output_type": "stream",
     "text": [
      "Website content has been saved to 'website_content.txt'.\n",
      "\n",
      "Summary:\n",
      "- We successfully scraped and cleaned the website content.\n",
      "- The data is saved as plain text, ready for embedding and vector storage.\n",
      "\n",
      "Next Steps:\n",
      "- In the following notebook (02_Vector_Store_Creation_and_Retrieval.ipynb), we will embed this text and create a vector store.\n",
      "- This will allow us to efficiently retrieve relevant information to answer specific questions.\n",
      "\n",
      "Let's move on to the next notebook!\n",
      "\n"
     ]
    }
   ],
   "source": [
    "# Save the processed content to a text file for later use in the next steps\n",
    "with open(\"website_content.txt\", \"w\", encoding=\"utf-8\") as f:\n",
    "    f.write(content)\n",
    "\n",
    "print(\"Website content has been saved to 'website_content.txt'.\")\n",
    "\n",
    "# Summary and Next Steps\n",
    "print(\"\"\"\n",
    "Summary:\n",
    "- We successfully scraped and cleaned the website content.\n",
    "- The data is saved as plain text, ready for embedding and vector storage.\n",
    "\n",
    "Next Steps:\n",
    "- In the following notebook (02_Vector_Store_Creation_and_Retrieval.ipynb), we will embed this text and create a vector store.\n",
    "- This will allow us to efficiently retrieve relevant information to answer specific questions.\n",
    "\n",
    "Let's move on to the next notebook!\n",
    "\"\"\")"
   ]
  },
  {
   "cell_type": "code",
   "execution_count": null,
   "id": "572d696c",
   "metadata": {},
   "outputs": [],
   "source": []
  }
 ],
 "metadata": {
  "kernelspec": {
   "display_name": "Python 3 (ipykernel)",
   "language": "python",
   "name": "python3"
  },
  "language_info": {
   "codemirror_mode": {
    "name": "ipython",
    "version": 3
   },
   "file_extension": ".py",
   "mimetype": "text/x-python",
   "name": "python",
   "nbconvert_exporter": "python",
   "pygments_lexer": "ipython3",
   "version": "3.10.12"
  }
 },
 "nbformat": 4,
 "nbformat_minor": 5
}
