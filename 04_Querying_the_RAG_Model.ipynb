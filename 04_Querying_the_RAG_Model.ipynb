{
 "cells": [
  {
   "cell_type": "code",
   "execution_count": null,
   "id": "f4fd816d",
   "metadata": {},
   "outputs": [],
   "source": [
    "# Query the model\n",
    "question = \"What are the main points?\"\n",
    "retrieved_docs = retrieve(question)\n",
    "\n"
   ]
  },
  {
   "cell_type": "code",
   "execution_count": null,
   "id": "65394ca0",
   "metadata": {},
   "outputs": [],
   "source": [
    "# Tokenize question and context for input\n",
    "input_text = f\"Context: {' '.join(retrieved_docs)} Question: {question}\"\n",
    "input_ids = tokenizer.encode(input_text, return_tensors=\"pt\")\n"
   ]
  },
  {
   "cell_type": "code",
   "execution_count": null,
   "id": "44c85425",
   "metadata": {},
   "outputs": [],
   "source": [
    "\n",
    "# Generate answer\n",
    "output = model.generate(input_ids, max_length=200)\n",
    "answer = tokenizer.decode(output[0], skip_special_tokens=True)\n",
    "\n"
   ]
  },
  {
   "cell_type": "code",
   "execution_count": null,
   "id": "3d4a9ac2",
   "metadata": {},
   "outputs": [],
   "source": [
    "print(f\"Question: {question}\")\n",
    "print(f\"Answer: {answer}\")\n"
   ]
  }
 ],
 "metadata": {
  "kernelspec": {
   "display_name": "Python 3 (ipykernel)",
   "language": "python",
   "name": "python3"
  },
  "language_info": {
   "codemirror_mode": {
    "name": "ipython",
    "version": 3
   },
   "file_extension": ".py",
   "mimetype": "text/x-python",
   "name": "python",
   "nbconvert_exporter": "python",
   "pygments_lexer": "ipython3",
   "version": "3.10.12"
  }
 },
 "nbformat": 4,
 "nbformat_minor": 5
}
